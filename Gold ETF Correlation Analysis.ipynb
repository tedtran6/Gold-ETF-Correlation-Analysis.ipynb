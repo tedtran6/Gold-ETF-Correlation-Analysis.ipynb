{
 "cells": [
  {
   "cell_type": "code",
   "execution_count": 2,
   "metadata": {},
   "outputs": [],
   "source": [
    "from plotly.offline import download_plotlyjs, init_notebook_mode, plot, iplot\n",
    "import plotly.graph_objs as go\n",
    "import plotly.plotly as py\n",
    "import pandas_datareader as web\n",
    "import pandas as pd\n",
    "import datetime as dt\n",
    "import numpy as np"
   ]
  },
  {
   "cell_type": "code",
   "execution_count": 112,
   "metadata": {},
   "outputs": [
    {
     "name": "stdout",
     "output_type": "stream",
     "text": [
      "        Date        High         Low        Open       Close      Volume  \\\n",
      "0 2017-01-03  138.839996  114.000000  138.080002  114.480003   5624100.0   \n",
      "1 2017-01-04  117.959999  108.000000  109.199997  109.239998   6715800.0   \n",
      "2 2017-01-05   99.839996   77.519997   99.000000   80.879997  13978400.0   \n",
      "3 2017-01-06   99.800003   80.199997   86.919998   91.440002  16802800.0   \n",
      "4 2017-01-09   90.080002   76.959999   84.120003   87.279999  13905500.0   \n",
      "\n",
      "    Adj Close  \n",
      "0  114.173164  \n",
      "1  108.947205  \n",
      "2   80.663216  \n",
      "3   91.194916  \n",
      "4   87.046059  \n"
     ]
    },
    {
     "data": {
      "text/html": [
       "<iframe id=\"igraph\" scrolling=\"no\" style=\"border:none;\" seamless=\"seamless\" src=\"https://plot.ly/~tedtran6/90.embed\" height=\"525px\" width=\"100%\"></iframe>"
      ],
      "text/plain": [
       "<plotly.tools.PlotlyDisplay object>"
      ]
     },
     "execution_count": 112,
     "metadata": {},
     "output_type": "execute_result"
    }
   ],
   "source": [
    "start = dt.datetime(2017, 1, 1)\n",
    "end = dt.datetime(2018,10,24)\n",
    "\n",
    "df = web.DataReader(\"jnug\", \"yahoo\", start, end).reset_index()\n",
    "df2 = web.DataReader(\"jdst\", \"yahoo\", start, end).reset_index()\n",
    "df3 = web.DataReader(\"nugt\", \"yahoo\", start, end).reset_index()\n",
    "df4 = web.DataReader(\"dust\", \"yahoo\", start, end).reset_index()\n",
    "df5 = web.DataReader(\"gld\", \"yahoo\", start, end).reset_index()\n",
    "\n",
    "print(df2.head())\n",
    "\n",
    "opac = 0.7\n",
    "trace = go.Scatter(\n",
    "    name = \"JNUG\",\n",
    "    x = df.Date,\n",
    "    y = df[\"Adj Close\"],\n",
    "    line = dict(color = '#f44141'),\n",
    "    opacity = opac\n",
    ")\n",
    "\n",
    "trace2 = go.Scatter(\n",
    "    name = \"JDST\",\n",
    "    x = df2.Date,\n",
    "    y = df2[\"Adj Close\"],\n",
    "    line = dict(color = '#4152f4'),\n",
    "    opacity = opac\n",
    ")\n",
    "\n",
    "trace3 = go.Scatter(\n",
    "    name = \"NUGT\",\n",
    "    x = df3.Date,\n",
    "    y = df3[\"Adj Close\"],\n",
    "    line = dict(color = '#f49d41'),\n",
    "    opacity = opac\n",
    ")\n",
    "\n",
    "trace4 = go.Scatter(\n",
    "    name = \"DUST\",\n",
    "    x = df4.Date,\n",
    "    y = df4[\"Adj Close\"],\n",
    "    line = dict(color = '#a041f4'),\n",
    "    opacity = opac\n",
    ")\n",
    "\n",
    "trace5 = go.Scatter(\n",
    "    name = \"GLD\",\n",
    "    x = df5.Date,\n",
    "    y = df5[\"Adj Close\"],\n",
    "    line = dict(color = '#f4dc41'),\n",
    "    opacity = opac\n",
    ")\n",
    "\n",
    "#.pct\n",
    "#series = df.Series()\n",
    "#series = df[\"Close\"]\n",
    "\n",
    "layout = go.Layout(\n",
    "    title = \"Gold ETFs from 2017 to 2018\",\n",
    "    yaxis = dict(title = \"Price ($)\")\n",
    ")\n",
    "\n",
    "data = [trace, trace2, trace3, trace4, trace5]\n",
    "figure = go.Figure(data = data, layout = layout)\n",
    "py.iplot(figure, filename = \"gold ETFs chart\")"
   ]
  },
  {
   "cell_type": "code",
   "execution_count": 48,
   "metadata": {},
   "outputs": [],
   "source": [
    "df_all = pd.DataFrame()\n",
    "df_all[\"Date\"] = df[\"Date\"]\n",
    "\n",
    "df_all[\"Close JNUG\"] = df[\"Adj Close\"]\n",
    "df_all[\"Close JDST\"] = df2[\"Adj Close\"]\n",
    "df_all[\"Close NUGT\"] = df3[\"Adj Close\"]\n",
    "df_all[\"Close DUST\"] = df4[\"Adj Close\"]\n",
    "df_all[\"Close GLD\"] = df5[\"Adj Close\"]"
   ]
  },
  {
   "cell_type": "code",
   "execution_count": 51,
   "metadata": {},
   "outputs": [
    {
     "name": "stdout",
     "output_type": "stream",
     "text": [
      "            Close JNUG  Close JDST  Close NUGT  Close DUST  Close GLD\n",
      "Close JNUG    1.000000    0.312162    0.977833    0.134403   0.280273\n",
      "Close JDST    0.312162    1.000000    0.225463    0.939020  -0.471215\n",
      "Close NUGT    0.977833    0.225463    1.000000    0.006901   0.398429\n",
      "Close DUST    0.134403    0.939020    0.006901    1.000000  -0.669467\n",
      "Close GLD     0.280273   -0.471215    0.398429   -0.669467   1.000000\n"
     ]
    }
   ],
   "source": [
    "df_all_corr = df_all.corr()\n",
    "print(df_all_corr.head())"
   ]
  },
  {
   "cell_type": "code",
   "execution_count": 57,
   "metadata": {},
   "outputs": [
    {
     "name": "stdout",
     "output_type": "stream",
     "text": [
      "0.31216238598832424\n",
      "Index(['Close JNUG', 'Close JDST', 'Close NUGT', 'Close DUST', 'Close GLD'], dtype='object')\n"
     ]
    }
   ],
   "source": [
    "print(df_all_corr[\"Close JNUG\"][\"Close JDST\"])\n",
    "print(df_all_corr.index)"
   ]
  },
  {
   "cell_type": "code",
   "execution_count": 146,
   "metadata": {},
   "outputs": [
    {
     "data": {
      "text/html": [
       "<iframe id=\"igraph\" scrolling=\"no\" style=\"border:none;\" seamless=\"seamless\" src=\"https://plot.ly/~tedtran6/100.embed\" height=\"525px\" width=\"100%\"></iframe>"
      ],
      "text/plain": [
       "<plotly.tools.PlotlyDisplay object>"
      ]
     },
     "execution_count": 146,
     "metadata": {},
     "output_type": "execute_result"
    }
   ],
   "source": [
    "bars = go.Bar(\n",
    "    name = \"JNUG\",\n",
    "    x = [\"JNUG\", \"JDST\", \"NUGT\", \"DUST\", \"GLD\"],\n",
    "    #y = [df_all_corr[\"Close JNUG\"][\"Close JNUG\"], df_all_corr[\"Close JNUG\"][\"Close JDST\"],\n",
    "    #     df_all_corr[\"Close JNUG\"][\"Close NUGT\"], df_all_corr[\"Close JNUG\"][\"Close DUST\"],\n",
    "    #     df_all_corr[\"Close JNUG\"][\"Close GLD\"]],\n",
    "    y = df_all_corr[\"Close JNUG\"].values,\n",
    "    marker=dict(\n",
    "        color='#f44141'\n",
    "    ),\n",
    "    opacity = opac\n",
    ")\n",
    "\n",
    "bars2 = go.Bar(\n",
    "    name = \"JDST\",\n",
    "    x = [\"JNUG\", \"JDST\", \"NUGT\", \"DUST\", \"GLD\"],\n",
    "    y = df_all_corr[\"Close JDST\"].values,\n",
    "    marker=dict(\n",
    "        color='#4152f4'\n",
    "    ),\n",
    "    opacity = opac\n",
    ")\n",
    "\n",
    "bars3 = go.Bar(\n",
    "    name = \"NUGT\",\n",
    "    x = [\"JNUG\", \"JDST\", \"NUGT\", \"DUST\", \"GLD\"],\n",
    "    y = df_all_corr[\"Close NUGT\"].values,\n",
    "    marker=dict(\n",
    "        color='#f49d41'\n",
    "    ),\n",
    "    opacity = opac\n",
    ")\n",
    "\n",
    "bars4 = go.Bar(\n",
    "    name = \"DUST\",\n",
    "    x = [\"JNUG\", \"JDST\", \"NUGT\", \"DUST\", \"GLD\"],\n",
    "    y = df_all_corr[\"Close DUST\"].values,\n",
    "    marker=dict(\n",
    "        color='#a041f4'\n",
    "    ),\n",
    "    opacity = opac\n",
    ")\n",
    "\n",
    "bars5 = go.Bar(\n",
    "    name = \"GLD\",\n",
    "    x = [\"JNUG\", \"JDST\", \"NUGT\", \"DUST\", \"GLD\"],\n",
    "    y = df_all_corr[\"Close GLD\"].values,\n",
    "    marker=dict(\n",
    "        color='#f4dc41'\n",
    "    ),\n",
    "    opacity = opac\n",
    ")\n",
    "\n",
    "layout = go.Layout(\n",
    "    title = \"Percent correlation of Gold ETFs\"\n",
    ")\n",
    "data = [bars5, bars, bars3, bars2, bars4]\n",
    "figure = go.Figure(data = data, layout = layout)\n",
    "py.iplot(figure, filename='grouped-bar')"
   ]
  },
  {
   "cell_type": "code",
   "execution_count": 144,
   "metadata": {},
   "outputs": [
    {
     "name": "stdout",
     "output_type": "stream",
     "text": [
      "[1.         0.31216239 0.9778334  0.13440324 0.2802729 ]\n"
     ]
    }
   ],
   "source": [
    "print(df_all_corr[\"Close JNUG\"].values)"
   ]
  },
  {
   "cell_type": "code",
   "execution_count": 125,
   "metadata": {},
   "outputs": [
    {
     "name": "stdout",
     "output_type": "stream",
     "text": [
      "[[ 1.          0.31216239  0.9778334   0.13440324  0.2802729 ]\n",
      " [ 0.31216239  1.          0.22546273  0.93902049 -0.47121546]\n",
      " [ 0.9778334   0.22546273  1.          0.00690103  0.39842946]\n",
      " [ 0.13440324  0.93902049  0.00690103  1.         -0.66946737]\n",
      " [ 0.2802729  -0.47121546  0.39842946 -0.66946737  1.        ]]\n"
     ]
    }
   ],
   "source": [
    "print(df_all_corr.values)"
   ]
  },
  {
   "cell_type": "markdown",
   "metadata": {},
   "source": [
    "df.values gives the array of everything inside of the df\n",
    "df.columns gives the x axis names of everything\n",
    "df.index gives the y axis names of everything"
   ]
  },
  {
   "cell_type": "code",
   "execution_count": 139,
   "metadata": {},
   "outputs": [
    {
     "data": {
      "text/html": [
       "<iframe id=\"igraph\" scrolling=\"no\" style=\"border:none;\" seamless=\"seamless\" src=\"https://plot.ly/~tedtran6/106.embed\" height=\"525px\" width=\"100%\"></iframe>"
      ],
      "text/plain": [
       "<plotly.tools.PlotlyDisplay object>"
      ]
     },
     "execution_count": 139,
     "metadata": {},
     "output_type": "execute_result"
    }
   ],
   "source": [
    "trace_heat = go.Heatmap(z = df_all_corr.values,\n",
    "                        x = df_all_corr.columns,\n",
    "                        y = df_all_corr.index,\n",
    "                        colorscale='Viridis'\n",
    "                       )\n",
    "data=[trace_heat]\n",
    "layout = go.Layout(title = \"Correlation Heatmap\")\n",
    "figure = go.Figure(data = data, layout = layout)\n",
    "py.iplot(figure, filename = 'heatmap')"
   ]
  },
  {
   "cell_type": "code",
   "execution_count": 137,
   "metadata": {},
   "outputs": [
    {
     "name": "stdout",
     "output_type": "stream",
     "text": [
      "Index(['Close JNUG', 'Close JDST', 'Close NUGT', 'Close DUST', 'Close GLD'], dtype='object')\n",
      "Index(['Close JNUG', 'Close JDST', 'Close NUGT', 'Close DUST', 'Close GLD'], dtype='object')\n",
      "Index(['Close JNUG', 'Close JDST', 'Close NUGT', 'Close DUST', 'Close GLD'], dtype='object')\n"
     ]
    }
   ],
   "source": [
    "print(df_all_corr.columns)\n",
    "print(df_all_corr.index)\n",
    "s = pd.Series()\n",
    "s = df_all_corr.columns\n",
    "print(s)"
   ]
  },
  {
   "cell_type": "code",
   "execution_count": 105,
   "metadata": {},
   "outputs": [
    {
     "data": {
      "text/html": [
       "<iframe id=\"igraph\" scrolling=\"no\" style=\"border:none;\" seamless=\"seamless\" src=\"https://plot.ly/~tedtran6/92.embed\" height=\"525px\" width=\"100%\"></iframe>"
      ],
      "text/plain": [
       "<plotly.tools.PlotlyDisplay object>"
      ]
     },
     "execution_count": 105,
     "metadata": {},
     "output_type": "execute_result"
    }
   ],
   "source": [
    "layout = go.Layout(\n",
    "    title = \"JNUG, NUGT, & GLD from 2017 to 2018\",\n",
    "    yaxis = dict(title = \"Price ($)\")\n",
    ")\n",
    "\n",
    "data = [trace, trace3, trace5]\n",
    "figure = go.Figure(data = data, layout = layout)\n",
    "py.iplot(figure, filename = \"Gold Miners Bull ETFs\")"
   ]
  },
  {
   "cell_type": "code",
   "execution_count": 111,
   "metadata": {},
   "outputs": [
    {
     "name": "stdout",
     "output_type": "stream",
     "text": [
      "184\n",
      "190\n",
      "83\n"
     ]
    },
    {
     "data": {
      "text/html": [
       "<iframe id=\"igraph\" scrolling=\"no\" style=\"border:none;\" seamless=\"seamless\" src=\"https://plot.ly/~tedtran6/102.embed\" height=\"525px\" width=\"100%\"></iframe>"
      ],
      "text/plain": [
       "<plotly.tools.PlotlyDisplay object>"
      ]
     },
     "execution_count": 111,
     "metadata": {},
     "output_type": "execute_result"
    }
   ],
   "source": [
    "#percent change\n",
    "df[\"% Change\"] =  df[\"Adj Close\"].pct_change()\n",
    "\n",
    "num_pos = 0\n",
    "num_neg = 0\n",
    "one_percent = 0\n",
    "for i in df[\"% Change\"]:\n",
    "    if abs(i) <= 0.01:\n",
    "        one_percent += 1\n",
    "    elif i > 0:\n",
    "        num_pos += 1\n",
    "    elif i < 0:\n",
    "        num_neg += 1\n",
    "end\n",
    "\n",
    "print(num_pos)\n",
    "print(num_neg)\n",
    "print(one_percent)\n",
    "\n",
    "labels = ['Green Days','Red Days','Days with 1% change or less']\n",
    "values = [num_pos, num_neg, one_percent]\n",
    "colors = [\"#2df226\", \"#ff3838\", \"#e0e0e0\"]\n",
    "\n",
    "trace_pie = go.Pie(\n",
    "    labels=labels,\n",
    "    values=values,\n",
    "    marker=dict(colors=colors),\n",
    "    opacity = 0.8\n",
    ")\n",
    "data = [trace_pie]\n",
    "layout = go.Layout(title = \"Green & Red Days\")\n",
    "figure = go.Figure(data = data, layout = layout)\n",
    "py.iplot(figure, filename='pie_chart')"
   ]
  },
  {
   "cell_type": "code",
   "execution_count": 116,
   "metadata": {},
   "outputs": [
    {
     "data": {
      "text/html": [
       "<iframe id=\"igraph\" scrolling=\"no\" style=\"border:none;\" seamless=\"seamless\" src=\"https://plot.ly/~tedtran6/94.embed\" height=\"525px\" width=\"100%\"></iframe>"
      ],
      "text/plain": [
       "<plotly.tools.PlotlyDisplay object>"
      ]
     },
     "execution_count": 116,
     "metadata": {},
     "output_type": "execute_result"
    }
   ],
   "source": [
    "#df6 = pd.DataFrame() #empty df\n",
    "df5[\"Adj Close Inverse\"] = -df5[\"Adj Close\"] + 200\n",
    "\n",
    "trace6 = go.Scatter(\n",
    "    name = \"Approximate Inverse GLD\",\n",
    "    x = df5.Date,\n",
    "    y = df5[\"Adj Close Inverse\"],\n",
    "    opacity = opac\n",
    ")\n",
    "\n",
    "layout = go.Layout(\n",
    "    title = \"JDST, DUST, & GLD from 2017 to 2018\",\n",
    "    yaxis = dict(title = \"Price ($)\")\n",
    ")\n",
    "data = [trace2, trace4, trace6]\n",
    "figure = go.Figure(data = data, layout = layout)\n",
    "py.iplot(figure, filename = \"Gold Miners Bear ETFs\")"
   ]
  },
  {
   "cell_type": "code",
   "execution_count": null,
   "metadata": {},
   "outputs": [],
   "source": []
  }
 ],
 "metadata": {
  "kernelspec": {
   "display_name": "Python 3",
   "language": "python",
   "name": "python3"
  },
  "language_info": {
   "codemirror_mode": {
    "name": "ipython",
    "version": 3
   },
   "file_extension": ".py",
   "mimetype": "text/x-python",
   "name": "python",
   "nbconvert_exporter": "python",
   "pygments_lexer": "ipython3",
   "version": "3.7.0"
  }
 },
 "nbformat": 4,
 "nbformat_minor": 2
}
